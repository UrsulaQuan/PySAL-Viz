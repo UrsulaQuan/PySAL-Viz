{
 "metadata": {
  "name": "d3viz Demo"
 },
 "nbformat": 3,
 "nbformat_minor": 0,
 "worksheets": [
  {
   "cells": [
    {
     "cell_type": "code",
     "collapsed": false,
     "input": [
      "import pysal"
     ],
     "language": "python",
     "metadata": {},
     "outputs": [],
     "prompt_number": 1
    },
    {
     "cell_type": "code",
     "collapsed": false,
     "input": [
      "shp = pysal.open(pysal.examples.get_path('NAT.shp'),'r')\n",
      "dbf = pysal.open(pysal.examples.get_path('NAT.dbf'),'r')"
     ],
     "language": "python",
     "metadata": {},
     "outputs": [],
     "prompt_number": 2
    },
    {
     "cell_type": "code",
     "collapsed": false,
     "input": [
      "import d3viz\n",
      "\"\"\"\n",
      "There is no dependent library, no extra command lines.\n",
      "Just call setup() to start a websocket server and a http server, \n",
      "and open a main web page.\n",
      "\n",
      "Note: if websocket/http server has already been started, \n",
      "this function will close these servers first.\n",
      "\"\"\""
     ],
     "language": "python",
     "metadata": {},
     "outputs": [
      {
       "output_type": "pyout",
       "prompt_number": 3,
       "text": [
        "'\\nThere is no dependent library, no extra command lines.\\nJust call setup() to start a websocket server and a http server, \\nand open a main web page.\\n\\nNote: if websocket/http server has already been started, \\nthis function will close these server first.\\n'"
       ]
      }
     ],
     "prompt_number": 3
    },
    {
     "cell_type": "code",
     "collapsed": false,
     "input": [
      "d3viz.setup()"
     ],
     "language": "python",
     "metadata": {},
     "outputs": [
      {
       "output_type": "stream",
       "stream": "stdout",
       "text": [
        "starting websocket server...\n",
        "starting http server...\n"
       ]
      }
     ],
     "prompt_number": 4
    },
    {
     "cell_type": "code",
     "collapsed": false,
     "input": [
      "\"\"\"\n",
      "show a base map of NAT.shp. \n",
      "Note: A geojson file will be created using the shapefile and dbf file. \n",
      "The web page will use this geojson file to show map.\n",
      "\"\"\"\n",
      "d3viz.show_map(shp)"
     ],
     "language": "python",
     "metadata": {},
     "outputs": [],
     "prompt_number": 7
    },
    {
     "cell_type": "code",
     "collapsed": false,
     "input": [
      "\"\"\"\n",
      "User can select objects in the opened map in web browser. \n",
      "Python can call get_selected(shp) to retrieve selected ids.\n",
      "\"\"\"\n",
      "select_ids = d3viz.get_selected(shp)\n",
      "print select_ids[:10]"
     ],
     "language": "python",
     "metadata": {},
     "outputs": [
      {
       "output_type": "pyout",
       "prompt_number": 10,
       "text": [
        "'\\nUser can select objects in the opened map in web browser. \\nPython can call get_selected(shp) to retrieve select ids.\\n'"
       ]
      }
     ],
     "prompt_number": 10
    },
    {
     "cell_type": "code",
     "collapsed": false,
     "input": [
      "\"\"\"\n",
      "User can also call select() function in Python to trigger selection on the map in web browser.\n",
      "For example:\n",
      "select polygons with \"HC60\" variable <= 30.0\n",
      "\"\"\"\n",
      "select_ids = [i for i,v in enumerate(dbf.by_col[\"HC60\"]) if v <= 0.001]\n",
      "d3viz.select(shp, ids=select_ids)"
     ],
     "language": "python",
     "metadata": {},
     "outputs": [
      {
       "output_type": "pyout",
       "prompt_number": 14,
       "text": [
        "'\\nUser can also call select() function in Python to trigger selection in the map in web browser\\n'"
       ]
      }
     ],
     "prompt_number": 14
    },
    {
     "cell_type": "code",
     "collapsed": false,
     "input": [
      "\"\"\"\n",
      "User can create and show a quantile map in a pop-up web page.\n",
      "Note: the quantile computation is done using pysal.esda.mapclassify.Quantiles()\n",
      "\"\"\"\n",
      "d3viz.quantile_map(shp, dbf, \"HC60\", 5)"
     ],
     "language": "python",
     "metadata": {},
     "outputs": [
      {
       "output_type": "pyout",
       "prompt_number": 37,
       "text": [
        "'\\nUser can create and show a quantile map in a pop-up web page.\\nNote: the quantile computation is done using pysal.esda.mapclassify.Quantiles()\\n'"
       ]
      }
     ],
     "prompt_number": 37
    },
    {
     "cell_type": "code",
     "collapsed": false,
     "input": [
      "\"\"\"\n",
      "Note: All map related operations (e.g. change color scheme, selection,...) can be done on the web page.\n",
      "\"\"\"\n",
      "d3viz.quantile_map(shp, dbf, \"HC70\", 7)"
     ],
     "language": "python",
     "metadata": {},
     "outputs": [
      {
       "output_type": "pyout",
       "prompt_number": 39,
       "text": [
        "'\\nNote: All map related operations (e.g. change color scheme, selection,...) are done on the web page.\\n'"
       ]
      }
     ],
     "prompt_number": 39
    },
    {
     "cell_type": "code",
     "collapsed": false,
     "input": [
      "\"\"\"\n",
      "@LISA_MAP\n",
      "User can compute the Local Moran and visualize the LISA map in a popup web page.\n",
      "\"\"\"\n",
      "w = pysal.rook_from_shapefile(pysal.examples.get_path('NAT.shp'))\n",
      "d3viz.lisa_map(shp, dbf, \"HC60\", w)"
     ],
     "language": "python",
     "metadata": {},
     "outputs": [
      {
       "output_type": "pyout",
       "prompt_number": 40,
       "text": [
        "'\\n@LISA_MAP\\nUser can compute the Local Moran and visualize the LISA map in a popup web page.\\n'"
       ]
      }
     ],
     "prompt_number": 40
    },
    {
     "cell_type": "code",
     "collapsed": false,
     "input": [
      "\"\"\"\n",
      "@Scatter Plot Matrix\n",
      "It's easy to integrate existing D3.js code with this framework. \n",
      "In this example, we modified and integrated this scatter plot matrix plot.\n",
      "\"\"\"\n",
      "d3viz.scatter_plot_matrix(shp, [\"HC60\",\"HC70\"])"
     ],
     "language": "python",
     "metadata": {},
     "outputs": [
      {
       "output_type": "pyout",
       "prompt_number": 43,
       "text": [
        "\"\\n@Scatter Plot Matrix\\nIt's easy to integrate existing D3.js code with this framework. \\nIn this example, we modified and integrated this scatter plot matrix plot.\\n\""
       ]
      }
     ],
     "prompt_number": 43
    }
   ],
   "metadata": {}
  }
 ]
}